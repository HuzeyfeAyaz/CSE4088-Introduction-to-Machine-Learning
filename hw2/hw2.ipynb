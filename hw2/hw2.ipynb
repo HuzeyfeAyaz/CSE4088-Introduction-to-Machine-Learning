{
  "nbformat": 4,
  "nbformat_minor": 0,
  "metadata": {
    "colab": {
      "name": "hw2.ipynb",
      "provenance": [],
      "collapsed_sections": []
    },
    "kernelspec": {
      "name": "python3",
      "display_name": "Python 3"
    },
    "language_info": {
      "name": "python"
    }
  },
  "cells": [
    {
      "cell_type": "markdown",
      "metadata": {
        "id": "PlDITCcCWPlW"
      },
      "source": [
        "# Perceptron Learning Algorithm (PLA)"
      ]
    },
    {
      "cell_type": "code",
      "metadata": {
        "id": "Mww6yb1aWYp8"
      },
      "source": [
        "import numpy as np\n",
        "import pandas as pd\n",
        "import seaborn as sns\n",
        "import matplotlib.pyplot as plt\n",
        "from sklearn.metrics import accuracy_score"
      ],
      "execution_count": 1,
      "outputs": []
    },
    {
      "cell_type": "code",
      "metadata": {
        "id": "jObn46cvWv_r"
      },
      "source": [
        "def determinant(X, f):\n",
        "    \"\"\"\n",
        "    Determines the labels of X dataset by given f target function.\n",
        "    Then, takes the sign of each label.\n",
        "    \"\"\"\n",
        "    values = (f[1][0] - f[0][0])*(X[:, 2] - f[0][1])-(f[1][1] - f[0][1])*(X[:, 1] - f[0][0])\n",
        "    return np.sign(values).astype(int)\n",
        "\n",
        "def sign_determinant(X):\n",
        "    \"\"\"\n",
        "    Finds the sign of each sample by the function provided in the question.\n",
        "    \"\"\"\n",
        "    values = (X[:, 1]**2 + X[:, 2]**2 - 0.6)\n",
        "    return np.sign(values).astype(int)\n",
        "\n",
        "def create_data_and_pick_target_function(sample_size=10, feature_size=2, target_function=None):\n",
        "    \"\"\"\n",
        "    Inputs:\n",
        "        sample_size: size of the randomly generated data '10' as default\n",
        "        feature_size: feature dimensions. '2' as default\n",
        "        target_function: creates a random target function if not provided,\n",
        "                         if a target function explicitly given, uses that\n",
        "                         target function to create labels. Else: uses\n",
        "                         sign_determinant function to generate labels.\n",
        "    Outputs:\n",
        "        X (dataset), f (target_function), and y (True labels)\n",
        "    \"\"\"\n",
        "    X = np.random.uniform(-1, 1, (sample_size, feature_size))\n",
        "    X = np.concatenate([np.ones((sample_size,1)), X], axis=1) # adds 1 to the left as X0\n",
        "    f = target_function\n",
        "    if target_function != 'sign_determinant':\n",
        "        if target_function is None:\n",
        "            f = np.random.uniform(-1, 1, (2, 2))\n",
        "        y = determinant(X, f)\n",
        "    else:\n",
        "        y = sign_determinant(X)\n",
        "    return X, f, y"
      ],
      "execution_count": 2,
      "outputs": []
    },
    {
      "cell_type": "code",
      "metadata": {
        "id": "oEUfu2WdWNY4"
      },
      "source": [
        "class PLA:\n",
        "    supported_weights = set(['zero', 'rand', 'custom'])\n",
        "\n",
        "    def __init__(self, weight_type='zero', weights=None):\n",
        "        \"\"\"\n",
        "        weight_type: either 'zero', 'rand' or custom to chose\n",
        "                    zero or random initialization. Also you may\n",
        "                    provide custom weights (requires weights parameter)\n",
        "        weights:    custom weights for model (reqires weight_type='custom')\n",
        "        \"\"\"\n",
        "        if weight_type not in self.supported_weights:\n",
        "            raise ValueError(f\"{weight_type} is not supported by parameter weight_type\")\n",
        "\n",
        "        self.weight_type = weight_type\n",
        "        self.weights = weights\n",
        "\n",
        "    def _initialize_weights(self, X):\n",
        "        \"\"\"\n",
        "        initializes weights based on given type same as feature size\n",
        "        \"\"\"\n",
        "        if self.weight_type == 'zero':\n",
        "            self.w = np.zeros((1, X.shape[1]))\n",
        "        elif self.weight_type == 'rand':\n",
        "            self.w = np.random.rand((1, X.shape[1]))\n",
        "        else:\n",
        "            self.w = self.weights\n",
        "\n",
        "    def update_weights(self, X, y):\n",
        "        self.w += y * X\n",
        "\n",
        "    def predict(self, X):\n",
        "        \"\"\"\n",
        "        predict the output of given type\n",
        "        \"\"\"\n",
        "        prob = np.ravel(np.dot(X, self.w.T))\n",
        "        return np.sign(prob).astype(int)\n",
        "\n",
        "    def fit(self, X, y):\n",
        "        \"\"\"\n",
        "        fits the model using given dataset and corresponding targets\n",
        "        \"\"\"\n",
        "        iteration = 1 # to count the number of iterations\n",
        "        self._initialize_weights(X)\n",
        "        while True:\n",
        "            y_pred = self.predict(X) # predicts output to update weights\n",
        "                                     # among misclassified points   \n",
        "            if (y_pred == y).all():  # terminates the method if all matches\n",
        "                return iteration\n",
        "            \n",
        "            indices = np.arange(X.shape[0]) # indices of all samples\n",
        "            misclassified = y != y_pred     # to find misclassified points\n",
        "            idx = np.random.choice(indices[misclassified]) # randomly choosing an index \n",
        "                                                           # of misclassified points \n",
        "            self.update_weights(X[idx], y[idx])\n",
        "            iteration += 1"
      ],
      "execution_count": 8,
      "outputs": []
    },
    {
      "cell_type": "code",
      "metadata": {
        "id": "DMXc7MIsHYXt"
      },
      "source": [
        "class LinearRegression:\n",
        "    supported_weights = set(['zero', 'rand'])\n",
        "\n",
        "    def __init__(self, weight_type='zero'):\n",
        "        \"\"\"\n",
        "        weigh_type: either 'zero' or 'rand' to chose\n",
        "                    zero or random initialization\n",
        "        \"\"\"\n",
        "        if weight_type not in self.supported_weights:\n",
        "            raise ValueError(f\"{weight_type} is not supported by parameter weight_type\")\n",
        "\n",
        "        self.weight_type = weight_type\n",
        "\n",
        "    def _initialize_weights(self, X):\n",
        "        if self.weight_type == 'zero':\n",
        "            self.w = np.zeros((1, X.shape[1]))\n",
        "        else:\n",
        "            self.w = np.random.rand((1, X.shape[1]))\n",
        "\n",
        "    def update_weights(self, X, y):\n",
        "        X_inv = np.dot(np.linalg.inv(np.dot(X.T, X)), X.T)\n",
        "        self.w = np.dot(X_inv, y)\n",
        "\n",
        "    def predict(self, X):\n",
        "        return np.sign(np.dot(self.w, X.T))\n",
        "\n",
        "    def fit(self, X, y):\n",
        "        self._initialize_weights(X)\n",
        "        self.update_weights(X, y)"
      ],
      "execution_count": null,
      "outputs": []
    },
    {
      "cell_type": "markdown",
      "metadata": {
        "id": "IuLH-V4RUdbg"
      },
      "source": [
        "# Questions"
      ]
    },
    {
      "cell_type": "markdown",
      "metadata": {
        "id": "7rVlyV_-gLMT"
      },
      "source": [
        "## The Perceptron Learning Algorithm"
      ]
    },
    {
      "cell_type": "markdown",
      "metadata": {
        "id": "lIs1zxlRUgAG"
      },
      "source": [
        "### Q4"
      ]
    },
    {
      "cell_type": "code",
      "metadata": {
        "colab": {
          "base_uri": "https://localhost:8080/"
        },
        "id": "eD6RNNkHIZbG",
        "outputId": "1f644c0e-2ae8-4c35-b25b-5bf759366a0c"
      },
      "source": [
        "iterations = [] # to store the # of iterations in each step\n",
        "model = PLA()   # initializing a PLA model\n",
        "errors = []\n",
        "for i in range(1000):\n",
        "    X, f, y = create_data_and_pick_target_function()\n",
        "    X_test, _, y_test = create_data_and_pick_target_function(sample_size=1000, target_function=f)\n",
        "\n",
        "    iteration = model.fit(X, y)\n",
        "    y_pred = model.predict(X_test)\n",
        "\n",
        "    iterations.append(iteration)\n",
        "    errors.append(1 - accuracy_score(y_test, y_pred))\n",
        "\n",
        "np.mean(iterations)"
      ],
      "execution_count": 9,
      "outputs": [
        {
          "output_type": "stream",
          "name": "stderr",
          "text": [
            "/usr/local/lib/python3.7/dist-packages/ipykernel_launcher.py:31: FutureWarning: elementwise comparison failed; returning scalar instead, but in the future will perform elementwise comparison\n"
          ]
        },
        {
          "output_type": "execute_result",
          "data": {
            "text/plain": [
              "10.378"
            ]
          },
          "metadata": {},
          "execution_count": 9
        }
      ]
    },
    {
      "cell_type": "markdown",
      "metadata": {
        "id": "niQXsioIUrIE"
      },
      "source": [
        "### Q5"
      ]
    },
    {
      "cell_type": "code",
      "metadata": {
        "colab": {
          "base_uri": "https://localhost:8080/"
        },
        "id": "2HPQhqaSYsQa",
        "outputId": "8c5de298-08fa-43d4-f50c-8ee4906a08b3"
      },
      "source": [
        "np.mean(errors)"
      ],
      "execution_count": 10,
      "outputs": [
        {
          "output_type": "execute_result",
          "data": {
            "text/plain": [
              "0.10647200000000001"
            ]
          },
          "metadata": {},
          "execution_count": 10
        }
      ]
    },
    {
      "cell_type": "markdown",
      "metadata": {
        "id": "Y0Yj11S6UlXE"
      },
      "source": [
        "### Q6"
      ]
    },
    {
      "cell_type": "code",
      "metadata": {
        "colab": {
          "base_uri": "https://localhost:8080/"
        },
        "id": "x3T6d69-Kf6P",
        "outputId": "6b03d45d-fb4b-4fe9-c816-f8deb93e9a84"
      },
      "source": [
        "iterations = []\n",
        "model = PLA()\n",
        "errors = []\n",
        "for i in range(1000):\n",
        "    X, f, y = create_data_and_pick_target_function(sample_size=100)\n",
        "    X_test, _, y_test = create_data_and_pick_target_function(sample_size=1000, target_function=f)\n",
        "\n",
        "    iteration = model.fit(X, y)\n",
        "    y_pred = model.predict(X_test)\n",
        "\n",
        "    iterations.append(iteration)\n",
        "    errors.append(1 - accuracy_score(y_test, y_pred))\n",
        "\n",
        "np.mean(iterations)"
      ],
      "execution_count": 11,
      "outputs": [
        {
          "output_type": "stream",
          "name": "stderr",
          "text": [
            "/usr/local/lib/python3.7/dist-packages/ipykernel_launcher.py:31: FutureWarning: elementwise comparison failed; returning scalar instead, but in the future will perform elementwise comparison\n"
          ]
        },
        {
          "output_type": "execute_result",
          "data": {
            "text/plain": [
              "97.897"
            ]
          },
          "metadata": {},
          "execution_count": 11
        }
      ]
    },
    {
      "cell_type": "markdown",
      "metadata": {
        "id": "KnScBRloGtiL"
      },
      "source": [
        "### Q7"
      ]
    },
    {
      "cell_type": "code",
      "metadata": {
        "colab": {
          "base_uri": "https://localhost:8080/"
        },
        "id": "YJKBQriDUaKC",
        "outputId": "2cc4676a-c5a4-43b6-d153-ab5e5dd1f6b5"
      },
      "source": [
        "np.mean(errors)"
      ],
      "execution_count": 12,
      "outputs": [
        {
          "output_type": "execute_result",
          "data": {
            "text/plain": [
              "0.013936000000000011"
            ]
          },
          "metadata": {},
          "execution_count": 12
        }
      ]
    },
    {
      "cell_type": "markdown",
      "metadata": {
        "id": "IBtukwzIgRF0"
      },
      "source": [
        "## Linear Regression"
      ]
    },
    {
      "cell_type": "markdown",
      "metadata": {
        "id": "Yq19WVNUGv2p"
      },
      "source": [
        "### Q8"
      ]
    },
    {
      "cell_type": "code",
      "metadata": {
        "colab": {
          "base_uri": "https://localhost:8080/"
        },
        "id": "tDYpvcJ-UaHr",
        "outputId": "92a1b799-d2ac-4e96-c4ac-9c1567f25538"
      },
      "source": [
        "errors = []\n",
        "model = LinearRegression()\n",
        "for i in range(1000):\n",
        "    X, f, y = create_data_and_pick_target_function(sample_size=100)\n",
        "    model.fit(X, y)\n",
        "    y_pred = model.predict(X)\n",
        "    errors.append(1 - accuracy_score(y, y_pred))\n",
        "\n",
        "np.mean(errors)"
      ],
      "execution_count": null,
      "outputs": [
        {
          "output_type": "execute_result",
          "data": {
            "text/plain": [
              "0.03847000000000001"
            ]
          },
          "metadata": {},
          "execution_count": 104
        }
      ]
    },
    {
      "cell_type": "markdown",
      "metadata": {
        "id": "Hpv4LB1fZfoJ"
      },
      "source": [
        "### Q9"
      ]
    },
    {
      "cell_type": "code",
      "metadata": {
        "colab": {
          "base_uri": "https://localhost:8080/"
        },
        "id": "aTS1EOc1UaC9",
        "outputId": "a2b66e9c-614c-47a8-a263-0eca7e8e4833"
      },
      "source": [
        "errors = []\n",
        "for i in range(1000):\n",
        "    X, f, y = create_data_and_pick_target_function(sample_size=1000, target_function=f)\n",
        "    y_pred = model.predict(X)\n",
        "    errors.append(1 - accuracy_score(y, y_pred)) # error = 1 - accuracy\n",
        "\n",
        "np.mean(errors)"
      ],
      "execution_count": null,
      "outputs": [
        {
          "output_type": "execute_result",
          "data": {
            "text/plain": [
              "0.007672000000000007"
            ]
          },
          "metadata": {},
          "execution_count": 106
        }
      ]
    },
    {
      "cell_type": "markdown",
      "metadata": {
        "id": "tAooTr5Ub3Qc"
      },
      "source": [
        "### Q10"
      ]
    },
    {
      "cell_type": "code",
      "metadata": {
        "colab": {
          "base_uri": "https://localhost:8080/"
        },
        "id": "mF9_nO4YUZ_q",
        "outputId": "e1cf80f5-17c1-428b-f57d-22b3765b8612"
      },
      "source": [
        "reg_model_w = model.w\n",
        "iterations = []\n",
        "model = PLA(weight_type='custom', weights=reg_model_w)\n",
        "for i in range(1000):\n",
        "    X, f, y = create_data_and_pick_target_function(sample_size=10, target_function=f)\n",
        "    iteration, error = model.fit(X, y)\n",
        "    iterations.append(iteration)\n",
        "\n",
        "np.mean(iterations)"
      ],
      "execution_count": null,
      "outputs": [
        {
          "output_type": "execute_result",
          "data": {
            "text/plain": [
              "1.439"
            ]
          },
          "metadata": {},
          "execution_count": 107
        }
      ]
    },
    {
      "cell_type": "markdown",
      "metadata": {
        "id": "NAmooy_EgUV-"
      },
      "source": [
        "## Nonlinear Transformation"
      ]
    },
    {
      "cell_type": "markdown",
      "metadata": {
        "id": "gj2RQTO4mPBB"
      },
      "source": [
        "### Q11"
      ]
    },
    {
      "cell_type": "code",
      "metadata": {
        "id": "d4ps7SSkhcJl"
      },
      "source": [
        "def flip_y(y):\n",
        "    rand_choices = np.random.choice(np.arange(y.shape[0]), 100)\n",
        "    y[rand_choices] *= -1\n",
        "    return y"
      ],
      "execution_count": null,
      "outputs": []
    },
    {
      "cell_type": "code",
      "metadata": {
        "colab": {
          "base_uri": "https://localhost:8080/"
        },
        "id": "t0RR3we2UZ9D",
        "outputId": "2dd59c2f-5f48-4578-dbec-5e351ec966fd"
      },
      "source": [
        "errors = []\n",
        "model = LinearRegression()\n",
        "for i in range(1000):\n",
        "    X, f, y = create_data_and_pick_target_function(1000, target_function=\"sign_determinant\")\n",
        "    y = flip_y(y)\n",
        "    model.fit(X, y)\n",
        "    y_pred = model.predict(X)\n",
        "    errors.append(1 - accuracy_score(y, y_pred))\n",
        "\n",
        "np.mean(errors)"
      ],
      "execution_count": null,
      "outputs": [
        {
          "output_type": "execute_result",
          "data": {
            "text/plain": [
              "0.506501"
            ]
          },
          "metadata": {},
          "execution_count": 6
        }
      ]
    },
    {
      "cell_type": "markdown",
      "metadata": {
        "id": "0Gim9wJlmRK2"
      },
      "source": [
        "### Q12"
      ]
    },
    {
      "cell_type": "code",
      "metadata": {
        "colab": {
          "base_uri": "https://localhost:8080/"
        },
        "id": "wochLDkHf_Hc",
        "outputId": "32b3fc50-30a3-4ae3-9a2c-e3e69ffac791"
      },
      "source": [
        "model = LinearRegression()\n",
        "\n",
        "X, f, y = create_data_and_pick_target_function(sample_size=1000, target_function=\"sign_determinant\")\n",
        "X = np.concatenate([X, \n",
        "                    (X[:, 1]*X[:, 2]).reshape(-1,1), \n",
        "                    (X[:, 1]**2).reshape(-1,1), \n",
        "                    (X[:, 2]**2).reshape(-1,1)], axis=1) # concatenating all features\n",
        "y = flip_y(y)\n",
        "model.fit(X, y)\n",
        "\n",
        "model.w"
      ],
      "execution_count": null,
      "outputs": [
        {
          "output_type": "execute_result",
          "data": {
            "text/plain": [
              "array([-1.0206148 , -0.04560406,  0.00526564, -0.01008764,  1.50361943,\n",
              "        1.64873634])"
            ]
          },
          "metadata": {},
          "execution_count": 42
        }
      ]
    },
    {
      "cell_type": "markdown",
      "metadata": {
        "id": "YqvbOrnzEjbq"
      },
      "source": [
        "### Q13"
      ]
    },
    {
      "cell_type": "code",
      "metadata": {
        "colab": {
          "base_uri": "https://localhost:8080/"
        },
        "id": "4ommA1R_f_Bx",
        "outputId": "67c110cf-a32b-4da0-d98d-a2cb4625c0bc"
      },
      "source": [
        "errors = []\n",
        "for i in range(1000):\n",
        "    X, f, y = create_data_and_pick_target_function(sample_size=1000, target_function=\"sign_determinant\")\n",
        "    X = np.concatenate([X, \n",
        "                        (X[:, 1]*X[:, 2]).reshape(-1,1), \n",
        "                        (X[:, 1]**2).reshape(-1,1), \n",
        "                        (X[:, 2]**2).reshape(-1,1)], axis=1)\n",
        "    y = flip_y(y)\n",
        "    y_pred = model.predict(X)\n",
        "    errors.append(1 - accuracy_score(y, y_pred))\n",
        "\n",
        "np.mean(errors)"
      ],
      "execution_count": null,
      "outputs": [
        {
          "output_type": "execute_result",
          "data": {
            "text/plain": [
              "0.12599000000000002"
            ]
          },
          "metadata": {},
          "execution_count": 47
        }
      ]
    }
  ]
}
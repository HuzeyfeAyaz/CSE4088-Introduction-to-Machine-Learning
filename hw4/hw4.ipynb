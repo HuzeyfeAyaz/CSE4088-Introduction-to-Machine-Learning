{
 "cells": [
  {
   "cell_type": "code",
   "execution_count": 1,
   "id": "eaf4615a",
   "metadata": {},
   "outputs": [],
   "source": [
    "from sklearn.svm import SVC\n",
    "import numpy as np\n",
    "import matplotlib.pyplot as plt\n",
    "from sklearn.model_selection import cross_val_score\n",
    "from collections import Counter"
   ]
  },
  {
   "cell_type": "code",
   "execution_count": 2,
   "id": "4253a52b",
   "metadata": {},
   "outputs": [],
   "source": [
    "# loading dataset\n",
    "train_data = np.loadtxt('features_train.txt')\n",
    "test_data = np.loadtxt('features_test.txt')\n",
    "\n",
    "# Splitting data into train and test samples\n",
    "X_train = train_data[:, 1:]\n",
    "y_train = np.ravel(train_data[:, 0]).astype(int)\n",
    "X_test = test_data[:, 1:]\n",
    "y_test = np.ravel(test_data[:, 0]).astype(int)"
   ]
  },
  {
   "cell_type": "code",
   "execution_count": 3,
   "id": "059e9e95",
   "metadata": {},
   "outputs": [],
   "source": [
    "# Creating an SVM model with polynomial kernel\n",
    "svm = SVC(C=0.01, degree=2, kernel='poly', gamma=1.0)"
   ]
  },
  {
   "cell_type": "code",
   "execution_count": 4,
   "id": "4103cdb5",
   "metadata": {},
   "outputs": [],
   "source": [
    "def one_vs_rest(y_train, y_test, class_):\n",
    "    \"\"\"\n",
    "    it takes y_train, y_test and class_ as parameter to\n",
    "    convert targets into binary labels.\n",
    "    1 for specified class and 0 for others.\n",
    "    \n",
    "    Returns: tuple of converted targets\n",
    "    \"\"\"\n",
    "    new_y_train = [1 if j == class_ else 0 for j in y_train]\n",
    "    new_y_test = [1 if j == class_ else 0 for j in y_test]\n",
    "\n",
    "    return new_y_train, new_y_test"
   ]
  },
  {
   "cell_type": "markdown",
   "id": "ee482090",
   "metadata": {},
   "source": [
    "### Q2"
   ]
  },
  {
   "cell_type": "code",
   "execution_count": 5,
   "id": "be8d1e3f",
   "metadata": {},
   "outputs": [],
   "source": [
    "results = {}\n",
    "for i in [0, 2, 4, 6, 8]:\n",
    "    new_targets = one_vs_rest(y_train, y_test, i)\n",
    "    model = svm.fit(X_train, new_targets[0])\n",
    "    y_pred = svm.predict(X_train)\n",
    "    results[i] = np.mean(new_targets[0] != y_pred)\n",
    "    "
   ]
  },
  {
   "cell_type": "code",
   "execution_count": 6,
   "id": "1003d8df",
   "metadata": {},
   "outputs": [
    {
     "data": {
      "text/plain": [
       "{0: 0.11905088465231106,\n",
       " 2: 0.10026059525442327,\n",
       " 4: 0.08942531888629818,\n",
       " 6: 0.09107118365107666,\n",
       " 8: 0.07433822520916199}"
      ]
     },
     "execution_count": 6,
     "metadata": {},
     "output_type": "execute_result"
    }
   ],
   "source": [
    "results"
   ]
  },
  {
   "cell_type": "markdown",
   "id": "ea9965a6",
   "metadata": {},
   "source": [
    "### Q3"
   ]
  },
  {
   "cell_type": "code",
   "execution_count": 7,
   "id": "e0e2f9be",
   "metadata": {},
   "outputs": [],
   "source": [
    "results = {}\n",
    "for i in [1, 3, 5, 7, 9]:\n",
    "    new_targets = one_vs_rest(y_train, y_test, i)\n",
    "    model = svm.fit(X_train, new_targets[0])\n",
    "    y_pred = svm.predict(X_train)\n",
    "    results[i] = np.mean(new_targets[0] != y_pred)"
   ]
  },
  {
   "cell_type": "code",
   "execution_count": 8,
   "id": "64a7f7a2",
   "metadata": {},
   "outputs": [
    {
     "data": {
      "text/plain": [
       "{1: 0.014264161294746948,\n",
       " 3: 0.09024825126868742,\n",
       " 5: 0.07625840076807022,\n",
       " 7: 0.08846523110684405,\n",
       " 9: 0.08832807570977919}"
      ]
     },
     "execution_count": 8,
     "metadata": {},
     "output_type": "execute_result"
    }
   ],
   "source": [
    "results"
   ]
  },
  {
   "cell_type": "markdown",
   "id": "afe009bb",
   "metadata": {},
   "source": [
    "### Q4"
   ]
  },
  {
   "cell_type": "code",
   "execution_count": 9,
   "id": "0dcd68aa",
   "metadata": {},
   "outputs": [
    {
     "name": "stdout",
     "output_type": "stream",
     "text": [
      "1879\n"
     ]
    }
   ],
   "source": [
    "zero_vs_all = one_vs_rest(y_train, y_test, 0)\n",
    "model = svm.fit(X_train, zero_vs_all[0])\n",
    "zero_support = len(model.support_) # number of support vector\n",
    "\n",
    "one_vs_all = one_vs_rest(y_train, y_test, 1)\n",
    "model = svm.fit(X_train, one_vs_all[0])\n",
    "one_support = len(model.support_)\n",
    "\n",
    "print(abs(zero_support - one_support))\n"
   ]
  },
  {
   "cell_type": "markdown",
   "id": "e965c8fc",
   "metadata": {},
   "source": [
    "### Q5"
   ]
  },
  {
   "cell_type": "code",
   "execution_count": 10,
   "id": "60563db3",
   "metadata": {},
   "outputs": [],
   "source": [
    "train_indices = (train_data[:, 0] == 1) | (train_data[:, 0] == 5)\n",
    "test_indices = (test_data[:, 0] == 1) | (test_data[:, 0] == 5)\n",
    "\n",
    "one_vs_five_X_train = X_train[train_indices]\n",
    "one_vs_five_X_test = X_test[test_indices]\n",
    "\n",
    "one_vs_five_y_train = y_train[train_indices]\n",
    "one_vs_five_y_test = y_test[test_indices]"
   ]
  },
  {
   "cell_type": "code",
   "execution_count": 11,
   "id": "ec09b0a9",
   "metadata": {},
   "outputs": [],
   "source": [
    "n_of_support, E_ins, E_outs = [], [], []\n",
    "C_values = [0.001, 0.01, 0.1, 1]\n",
    "\n",
    "for c_ in C_values:\n",
    "    svm.C = c_ # update C\n",
    "    model = svm.fit(one_vs_five_X_train, one_vs_five_y_train)\n",
    "    y_train_pred = model.predict(one_vs_five_X_train)\n",
    "    e_in = np.mean(one_vs_five_y_train != y_train_pred)\n",
    "    y_test_pred = model.predict(one_vs_five_X_test)\n",
    "    e_out = np.mean(one_vs_five_y_test != y_test_pred)\n",
    "\n",
    "    n_of_support.append(len(model.support_)) # n of support vectors\n",
    "    E_ins.append(e_in)\n",
    "    E_outs.append(e_out)"
   ]
  },
  {
   "cell_type": "code",
   "execution_count": 12,
   "id": "6da3fc20",
   "metadata": {},
   "outputs": [
    {
     "data": {
      "text/plain": [
       "<matplotlib.legend.Legend at 0x216eb6e36a0>"
      ]
     },
     "execution_count": 12,
     "metadata": {},
     "output_type": "execute_result"
    },
    {
     "data": {
      "image/png": "[encoded data removed]",
      "text/plain": [
       "<Figure size 720x360 with 2 Axes>"
      ]
     },
     "metadata": {
      "needs_background": "light"
     },
     "output_type": "display_data"
    }
   ],
   "source": [
    "fig, ax = plt.subplots(1, 2, figsize=(10, 5))\n",
    "ax[0].plot(C_values, np.array(n_of_support), label='Number Of Supports')\n",
    "ax[0].legend()\n",
    "\n",
    "ax[1].plot(C_values, E_ins, label='In Sample Errors')\n",
    "ax[1].plot(C_values, E_outs, label='Out Sample Errors')\n",
    "ax[1].legend()\n",
    "\n",
    "# plt.savefig('figure_for_question5.png', dpi=300, bbox_inches='tight')"
   ]
  },
  {
   "cell_type": "code",
   "execution_count": 13,
   "id": "188c02ac",
   "metadata": {},
   "outputs": [
    {
     "name": "stdout",
     "output_type": "stream",
     "text": [
      "C Values: [0.001, 0.01, 0.1, 1]\n",
      "In Sample Errors: [0.004484304932735426, 0.004484304932735426, 0.004484304932735426, 0.003843689942344651]\n",
      "Out Sample Errors [0.01650943396226415, 0.018867924528301886, 0.018867924528301886, 0.018867924528301886]\n",
      "Num. Of Sup. Vec.: [80, 34, 24, 24]\n"
     ]
    }
   ],
   "source": [
    "print(\"C Values:\", C_values)\n",
    "print(\"In Sample Errors:\", E_ins)\n",
    "print(\"Out Sample Errors\", E_outs)\n",
    "print(\"Num. Of Sup. Vec.:\", n_of_support)\n",
    "\n",
    "# The answer is D which is Maximum C achieves the lowest Ein"
   ]
  },
  {
   "cell_type": "markdown",
   "id": "affb5f83",
   "metadata": {},
   "source": [
    "### Q6"
   ]
  },
  {
   "cell_type": "code",
   "execution_count": 14,
   "id": "0bbd3643",
   "metadata": {},
   "outputs": [],
   "source": [
    "svm = SVC(C=0.01, degree=5, kernel='poly', gamma=1.0)\n",
    "\n",
    "n_of_support, E_ins, E_outs = [], [], []\n",
    "C_values = [0.001, 0.01, 0.1, 1]\n",
    "\n",
    "for c_ in C_values:\n",
    "    svm.C = c_\n",
    "    model = svm.fit(one_vs_five_X_train, one_vs_five_y_train)\n",
    "    y_train_pred = model.predict(one_vs_five_X_train)\n",
    "    e_in = np.mean(one_vs_five_y_train != y_train_pred)\n",
    "    y_test_pred = model.predict(one_vs_five_X_test)\n",
    "    e_out = np.mean(one_vs_five_y_test != y_test_pred)\n",
    "\n",
    "    n_of_support.append(len(model.support_))\n",
    "    E_ins.append(e_in)\n",
    "    E_outs.append(e_out)"
   ]
  },
  {
   "cell_type": "code",
   "execution_count": 15,
   "id": "4a4f2810",
   "metadata": {},
   "outputs": [
    {
     "data": {
      "text/plain": [
       "<matplotlib.legend.Legend at 0x216f075be50>"
      ]
     },
     "execution_count": 15,
     "metadata": {},
     "output_type": "execute_result"
    },
    {
     "data": {
      "image/png": "[encoded data removed]",
      "text/plain": [
       "<Figure size 720x360 with 2 Axes>"
      ]
     },
     "metadata": {
      "needs_background": "light"
     },
     "output_type": "display_data"
    }
   ],
   "source": [
    "fig, ax = plt.subplots(1, 2, figsize=(10, 5))\n",
    "ax[0].plot(C_values, np.array(n_of_support), label='Number Of Supports')\n",
    "ax[0].legend()\n",
    "\n",
    "ax[1].plot(C_values, E_ins, label='In Sample Errors')\n",
    "ax[1].plot(C_values, E_outs, label='Out Sample Errors')\n",
    "ax[1].legend()\n",
    "\n",
    "# plt.savefig('figure_for_question6.png', dpi=300, bbox_inches='tight')"
   ]
  },
  {
   "cell_type": "code",
   "execution_count": 16,
   "id": "06fa491a",
   "metadata": {},
   "outputs": [
    {
     "name": "stdout",
     "output_type": "stream",
     "text": [
      "C Values: [0.001, 0.01, 0.1, 1]\n",
      "In Sample Errors: [0.004484304932735426, 0.005124919923126201, 0.004484304932735426, 0.004484304932735426]\n",
      "Out Sample Errors [0.01650943396226415, 0.01650943396226415, 0.018867924528301886, 0.01650943396226415]\n",
      "Num. Of Sup. Vec.: [26, 27, 24, 24]\n"
     ]
    }
   ],
   "source": [
    "print(\"C Values:\", C_values)\n",
    "print(\"In Sample Errors:\", E_ins)\n",
    "print(\"Out Sample Errors\", E_outs)\n",
    "print(\"Num. Of Sup. Vec.:\", n_of_support)\n",
    "\n",
    "# The answer is B which is When C = 0.001, the number of support vectors is lower at Q = 5"
   ]
  },
  {
   "cell_type": "markdown",
   "id": "353ab72b",
   "metadata": {},
   "source": [
    "### Q7"
   ]
  },
  {
   "cell_type": "code",
   "execution_count": 39,
   "id": "98f4ab87",
   "metadata": {},
   "outputs": [],
   "source": [
    "scores = {}\n",
    "for j in range(100):\n",
    "    shuffled_idx = np.arange(one_vs_five_X_train.shape[0])\n",
    "    np.random.shuffle(shuffled_idx)\n",
    "    for i in [0.0001, 0.001, 0.01, 0.1, 1]:\n",
    "        scores.setdefault(i, [])\n",
    "        model = SVC(C=i, kernel='poly', degree=2, gamma=1.0)\n",
    "        scores[i].extend(1 - cross_val_score(\n",
    "            model,\n",
    "            one_vs_five_X_train[shuffled_idx],\n",
    "            one_vs_five_y_train[shuffled_idx],\n",
    "            cv=10, n_jobs=-1))"
   ]
  },
  {
   "cell_type": "code",
   "execution_count": 40,
   "id": "de6d6e5d",
   "metadata": {},
   "outputs": [],
   "source": [
    "scores_array = np.array([scores[i] for i in [0.0001, 0.001, 0.01, 0.1, 1]])"
   ]
  },
  {
   "cell_type": "code",
   "execution_count": 41,
   "id": "39026438",
   "metadata": {},
   "outputs": [
    {
     "data": {
      "text/plain": [
       "(5, 1000)"
      ]
     },
     "execution_count": 41,
     "metadata": {},
     "output_type": "execute_result"
    }
   ],
   "source": [
    "scores_array.shape"
   ]
  },
  {
   "cell_type": "code",
   "execution_count": 42,
   "id": "fcfa911c",
   "metadata": {},
   "outputs": [
    {
     "data": {
      "text/plain": [
       "Counter({0: 328, 1: 524, 2: 81, 4: 46, 3: 21})"
      ]
     },
     "execution_count": 42,
     "metadata": {},
     "output_type": "execute_result"
    }
   ],
   "source": [
    "Counter(np.argmin(scores_array, axis=0))\n",
    "# 1 which is 0.001 is selected more often"
   ]
  },
  {
   "cell_type": "markdown",
   "id": "c080cd7d",
   "metadata": {},
   "source": [
    "### Q8"
   ]
  },
  {
   "cell_type": "code",
   "execution_count": 75,
   "id": "5d9764d5",
   "metadata": {},
   "outputs": [
    {
     "data": {
      "text/plain": [
       "array([0.01081288, 0.00499669, 0.00457333, 0.00472142, 0.00497089])"
      ]
     },
     "execution_count": 75,
     "metadata": {},
     "output_type": "execute_result"
    }
   ],
   "source": [
    "np.mean(scores_array, axis=1) # the answer is C"
   ]
  },
  {
   "cell_type": "markdown",
   "id": "da8751c5",
   "metadata": {},
   "source": [
    "### Q9"
   ]
  },
  {
   "cell_type": "code",
   "execution_count": 81,
   "id": "f8431268",
   "metadata": {},
   "outputs": [],
   "source": [
    "e_in, e_out = [], []\n",
    "C_values = [0.01, 1, 100, 1e4, 1e6]\n",
    "for i in C_values:\n",
    "    model = SVC(C=i, kernel='rbf', gamma=1.0)\n",
    "    model.fit(one_vs_five_X_train, one_vs_five_y_train)\n",
    "    e_in.append(np.mean(model.predict(one_vs_five_X_train) != one_vs_five_y_train))\n",
    "    e_out.append(np.mean(model.predict(one_vs_five_X_test) != one_vs_five_y_test))"
   ]
  },
  {
   "cell_type": "code",
   "execution_count": 83,
   "id": "f3568484",
   "metadata": {},
   "outputs": [
    {
     "name": "stdout",
     "output_type": "stream",
     "text": [
      "E in: 1000000.0\n"
     ]
    }
   ],
   "source": [
    "print('E in:',C_values[np.argmin(e_in)])"
   ]
  },
  {
   "cell_type": "markdown",
   "id": "a0b791a3",
   "metadata": {},
   "source": [
    "### Q10"
   ]
  },
  {
   "cell_type": "code",
   "execution_count": 84,
   "id": "627f6540",
   "metadata": {},
   "outputs": [
    {
     "name": "stdout",
     "output_type": "stream",
     "text": [
      "E out: 100\n"
     ]
    }
   ],
   "source": [
    "print('E out:',C_values[np.argmin(e_out)])"
   ]
  }
 ],
 "metadata": {
  "kernelspec": {
   "display_name": "Python 3 (ipykernel)",
   "language": "python",
   "name": "python3"
  },
  "language_info": {
   "codemirror_mode": {
    "name": "ipython",
    "version": 3
   },
   "file_extension": ".py",
   "mimetype": "text/x-python",
   "name": "python",
   "nbconvert_exporter": "python",
   "pygments_lexer": "ipython3",
   "version": "3.9.7"
  }
 },
 "nbformat": 4,
 "nbformat_minor": 5
}
